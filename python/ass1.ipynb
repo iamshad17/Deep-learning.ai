{
  "nbformat": 4,
  "nbformat_minor": 0,
  "metadata": {
    "colab": {
      "name": "ass1.ipynb",
      "version": "0.3.2",
      "provenance": [],
      "collapsed_sections": [],
      "include_colab_link": true
    },
    "kernelspec": {
      "name": "python3",
      "display_name": "Python 3"
    }
  },
  "cells": [
    {
      "cell_type": "markdown",
      "metadata": {
        "id": "view-in-github",
        "colab_type": "text"
      },
      "source": [
        "<a href=\"https://colab.research.google.com/github/iamshirdi/Deep-learning.ai/blob/master/python/ass1.ipynb\" target=\"_parent\"><img src=\"https://colab.research.google.com/assets/colab-badge.svg\" alt=\"Open In Colab\"/></a>"
      ]
    },
    {
      "cell_type": "markdown",
      "metadata": {
        "id": "ctpbJM_GrFHt",
        "colab_type": "text"
      },
      "source": [
        "Write a program that repeatedly prompts a user for integer numbers until the user enters 'done'. Once 'done' is entered, print out the largest and smallest of the numbers.<br> If the user enters anything other than a valid number catch it with a try/except and put out an appropriate message and ignore the number. <br>Enter 7, 2, bob, 10, and 4 and match the output below: <br>\n",
        "Maximum is 10<br>\n",
        "Minimum is 2"
      ]
    },
    {
      "cell_type": "code",
      "metadata": {
        "id": "y2lJMtqunyer",
        "colab_type": "code",
        "outputId": "2d1e88b4-b724-4fe8-8865-02e0f7bd0014",
        "colab": {
          "base_uri": "https://localhost:8080/",
          "height": 199
        }
      },
      "source": [
        "largest = None\n",
        "smallest = None\n",
        "\n",
        "while True:\n",
        "  \n",
        "\n",
        "  try:\n",
        "      num = input(\"Enter a number: \")\n",
        "      \n",
        "      if num == \"done\" : break\n",
        "      num=int(num)\n",
        "      \n",
        "      if largest==None or smallest==None:\n",
        "          largest=num\n",
        "          smallest=num\n",
        "\n",
        "      if num>largest:largest=num\n",
        "      if num<smallest:smallest=num\n",
        "\n",
        "  except:\n",
        "      print('Invalid input')\n",
        "print()\n",
        "print(\"Maximum is\", largest)\n",
        "print(\"Minimum is\", smallest)"
      ],
      "execution_count": 13,
      "outputs": [
        {
          "output_type": "stream",
          "text": [
            "Enter a number: 7\n",
            "Enter a number: 2\n",
            "Enter a number: bob\n",
            "Invalid input\n",
            "Enter a number: 10\n",
            "Enter a number: 4\n",
            "Enter a number: done\n",
            "\n",
            "Maximum is 10\n",
            "Minimum is 2\n"
          ],
          "name": "stdout"
        }
      ]
    },
    {
      "cell_type": "markdown",
      "metadata": {
        "id": "L5EjZ9I_yiMN",
        "colab_type": "text"
      },
      "source": [
        " Write a program to prompt the user for hours and rate per hour using input to compute gross pay.<br> Pay should be the normal rate for hours up to 40 and time-and-a-half for the hourly rate for all hours worked above 40 hours.<br> Put the logic to do the computation of pay in a function called computepay() and use the function to do the computation.<br> The function should return a value. Use 45 hours and a rate of 10.50 per hour to test the program (the pay should be 498.75). <br>You should use input to read a string and float() to convert the string to a number. "
      ]
    },
    {
      "cell_type": "code",
      "metadata": {
        "id": "rOCVgpO2n0J1",
        "colab_type": "code",
        "colab": {
          "base_uri": "https://localhost:8080/",
          "height": 90
        },
        "outputId": "6a97155e-dd18-4fa9-fd76-50ce88ddf4c1"
      },
      "source": [
        "def computepay(h,r):\n",
        "    #elgibile for bonus check first otherwise default pay\n",
        "    if h>40:\n",
        "        extra_hours_bonus=h-40\n",
        "        return (extra_hours_bonus*r*1.5)+40*r\n",
        "    else:\n",
        "        return h*r\n",
        "   \n",
        "\n",
        "hrs = input(\"Enter Hours:\")\n",
        "h=float(hrs)\n",
        "rph = input(\"Enter rph:\")\n",
        "r=float(rph)\n",
        "\n",
        "p = computepay(h,r)\n",
        "print(\"Pay\",p)\n",
        "print(type(p))\n",
        "\n",
        "\n"
      ],
      "execution_count": 14,
      "outputs": [
        {
          "output_type": "stream",
          "text": [
            "Enter Hours:45\n",
            "Enter rph:10.50\n",
            "Pay 498.75\n",
            "<class 'float'>\n"
          ],
          "name": "stdout"
        }
      ]
    }
  ]
}