{
 "cells": [
  {
   "cell_type": "code",
   "execution_count": 1,
   "metadata": {
    "colab": {
     "base_uri": "https://localhost:8080/",
     "height": 34
    },
    "colab_type": "code",
    "id": "uxOWRouWs-Ik",
    "outputId": "0ed682c1-043b-4c78-a8b1-966c327223d8"
   },
   "outputs": [],
   "source": [
    "\n",
    "# import requests\n",
    "\n",
    "# url = 'http://ufldl.stanford.edu/housenumbers/train_32x32.mat'\n",
    "\n",
    "# r = requests.get(url, allow_redirects=True)\n",
    "# open('train_32x32.mat', 'wb').write(r.content)"
   ]
  },
  {
   "cell_type": "code",
   "execution_count": 2,
   "metadata": {
    "colab": {
     "base_uri": "https://localhost:8080/",
     "height": 34
    },
    "colab_type": "code",
    "id": "uL24EVKruUfW",
    "outputId": "d2640388-791a-4493-9649-cd1bc5b59a5c"
   },
   "outputs": [],
   "source": [
    "# !du -h train_32x32.mat"
   ]
  },
  {
   "cell_type": "code",
   "execution_count": 3,
   "metadata": {
    "colab": {
     "base_uri": "https://localhost:8080/",
     "height": 34
    },
    "colab_type": "code",
    "id": "_UjU8LKruXEc",
    "outputId": "78e669f3-a3cf-4501-cf4b-f09ac37f7722"
   },
   "outputs": [],
   "source": [
    "# url2 = 'http://ufldl.stanford.edu/housenumbers/test_32x32.mat'\n",
    "\n",
    "# s = requests.get(url2, allow_redirects=True)\n",
    "# open('test_32x32.mat', 'wb').write(s.content)"
   ]
  },
  {
   "cell_type": "code",
   "execution_count": 4,
   "metadata": {
    "colab": {
     "base_uri": "https://localhost:8080/",
     "height": 34
    },
    "colab_type": "code",
    "id": "6PrtEbMGuoNI",
    "outputId": "2256cf74-9688-4206-9442-338b549ece26"
   },
   "outputs": [],
   "source": [
    "# !du -h test_32x32.mat"
   ]
  },
  {
   "cell_type": "code",
   "execution_count": 1,
   "metadata": {
    "colab": {
     "base_uri": "https://localhost:8080/",
     "height": 34
    },
    "colab_type": "code",
    "id": "hxfb6XgxvMJZ",
    "outputId": "99099670-4d2a-486d-f990-4ee9877a60a6"
   },
   "outputs": [
    {
     "data": {
      "text/plain": [
       "dict"
      ]
     },
     "execution_count": 1,
     "metadata": {},
     "output_type": "execute_result"
    }
   ],
   "source": [
    "import scipy.io\n",
    "train = scipy.io.loadmat('train_32x32.mat')\n",
    "type(train)"
   ]
  },
  {
   "cell_type": "code",
   "execution_count": 6,
   "metadata": {
    "colab": {
     "base_uri": "https://localhost:8080/",
     "height": 34
    },
    "colab_type": "code",
    "id": "-_XFcLWlvpuZ",
    "outputId": "7f1cb1f6-49b9-42b9-c785-5ba97a19ef5a"
   },
   "outputs": [
    {
     "data": {
      "text/plain": [
       "dict_keys(['__header__', '__version__', '__globals__', 'X', 'y'])"
      ]
     },
     "execution_count": 6,
     "metadata": {},
     "output_type": "execute_result"
    }
   ],
   "source": [
    "train.keys()"
   ]
  },
  {
   "cell_type": "code",
   "execution_count": 7,
   "metadata": {
    "colab": {
     "base_uri": "https://localhost:8080/",
     "height": 134
    },
    "colab_type": "code",
    "id": "aZwHZkoHv8sf",
    "outputId": "533e2c10-5918-4b8c-ddee-d38576b84527"
   },
   "outputs": [
    {
     "data": {
      "text/plain": [
       "array([[1],\n",
       "       [9],\n",
       "       [2],\n",
       "       ...,\n",
       "       [1],\n",
       "       [6],\n",
       "       [9]], dtype=uint8)"
      ]
     },
     "execution_count": 7,
     "metadata": {},
     "output_type": "execute_result"
    }
   ],
   "source": [
    "train['y'] #dtype uint8"
   ]
  },
  {
   "cell_type": "code",
   "execution_count": 8,
   "metadata": {
    "colab": {},
    "colab_type": "code",
    "id": "p9UTmmY50ZPb"
   },
   "outputs": [],
   "source": [
    "train['y']=train['y'].astype('int64')\n",
    "# train['X']=train['X'].astype('float32')"
   ]
  },
  {
   "cell_type": "code",
   "execution_count": 3,
   "metadata": {},
   "outputs": [
    {
     "data": {
      "image/png": "[encoded data removed]",
      "text/plain": [
       "<Figure size 432x288 with 2 Axes>"
      ]
     },
     "metadata": {
      "needs_background": "light"
     },
     "output_type": "display_data"
    }
   ],
   "source": [
    "import scipy.io\n",
    "from matplotlib import pyplot as plt\n",
    "\n",
    "test = scipy.io.loadmat('test_32x32.mat')\n",
    "type(test)\n",
    "fig, (ax1, ax2) = plt.subplots(1, 2, sharex=True)\n",
    "\n",
    "fig.suptitle('Class Distribution', fontsize=14, fontweight='bold', y=1.05)\n",
    "\n",
    "ax1.hist(train['y'], bins=10)\n",
    "ax1.set_title(\"Training set\")\n",
    "ax1.set_xlim(1, 10)\n",
    "\n",
    "ax2.hist(test['y'], color='g', bins=10)\n",
    "ax2.set_title(\"Test set\")\n",
    "\n",
    "fig.tight_layout()"
   ]
  },
  {
   "cell_type": "code",
   "execution_count": 9,
   "metadata": {
    "colab": {
     "base_uri": "https://localhost:8080/",
     "height": 34
    },
    "colab_type": "code",
    "id": "1gvZUizpxIST",
    "outputId": "f6046cfe-59d6-4adb-d148-078fd1418810"
   },
   "outputs": [
    {
     "data": {
      "text/plain": [
       "(73257, 1)"
      ]
     },
     "execution_count": 9,
     "metadata": {},
     "output_type": "execute_result"
    }
   ],
   "source": [
    "train['y'].shape"
   ]
  },
  {
   "cell_type": "code",
   "execution_count": 10,
   "metadata": {
    "colab": {
     "base_uri": "https://localhost:8080/",
     "height": 34
    },
    "colab_type": "code",
    "id": "A9QYYG3Wy-s5",
    "outputId": "47c09e30-61e0-4e2c-9ffe-609ee034dc79"
   },
   "outputs": [
    {
     "data": {
      "text/plain": [
       "array([ 1,  2,  3,  4,  5,  6,  7,  8,  9, 10], dtype=int64)"
      ]
     },
     "execution_count": 10,
     "metadata": {},
     "output_type": "execute_result"
    }
   ],
   "source": [
    "import numpy as np\n",
    "np.unique(train['y'])"
   ]
  },
  {
   "cell_type": "code",
   "execution_count": 11,
   "metadata": {
    "colab": {
     "base_uri": "https://localhost:8080/",
     "height": 34
    },
    "colab_type": "code",
    "id": "RYavff90w3yD",
    "outputId": "b9f0d201-366d-472f-8d0b-e5548ea5d024"
   },
   "outputs": [
    {
     "data": {
      "text/plain": [
       "(32, 32, 3, 73257)"
      ]
     },
     "execution_count": 11,
     "metadata": {},
     "output_type": "execute_result"
    }
   ],
   "source": [
    "train['X'].shape"
   ]
  },
  {
   "cell_type": "code",
   "execution_count": 12,
   "metadata": {
    "colab": {
     "base_uri": "https://localhost:8080/",
     "height": 34
    },
    "colab_type": "code",
    "id": "tjjo72ujwKOK",
    "outputId": "43dd446c-dcbc-4923-ed5a-a112a33ba8f4"
   },
   "outputs": [
    {
     "data": {
      "text/plain": [
       "(32, 32, 3)"
      ]
     },
     "execution_count": 12,
     "metadata": {},
     "output_type": "execute_result"
    }
   ],
   "source": [
    "train['X'][:,:,:,0].shape"
   ]
  },
  {
   "cell_type": "code",
   "execution_count": 13,
   "metadata": {
    "colab": {
     "base_uri": "https://localhost:8080/",
     "height": 34
    },
    "colab_type": "code",
    "id": "p4_9eR6FwRhg",
    "outputId": "81ee79f3-5203-46ab-e35b-f333e6533c58"
   },
   "outputs": [
    {
     "data": {
      "text/plain": [
       "numpy.ndarray"
      ]
     },
     "execution_count": 13,
     "metadata": {},
     "output_type": "execute_result"
    }
   ],
   "source": [
    "type(train['X']) "
   ]
  },
  {
   "cell_type": "code",
   "execution_count": null,
   "metadata": {},
   "outputs": [],
   "source": [
    "# !conda install shapely\n",
    "# !pip install imgaug\n",
    "# from imgaug import augmenters as iaa\n",
    "# import imgaug as ia"
   ]
  },
  {
   "cell_type": "code",
   "execution_count": null,
   "metadata": {},
   "outputs": [],
   "source": [
    "# class ImgAugTransform:\n",
    "    \n",
    "#     def __init__(self):        \n",
    "#         self.aug = iaa.Sequential([\n",
    "#             iaa.Sometimes(0.01, iaa.GaussianBlur(sigma=(0, 1.0))),\n",
    "#             iaa.Fliplr(0.1),\n",
    "#             iaa.Affine(rotate=(-1, 1), mode='symmetric'),\n",
    "#             iaa.Sometimes(0.05,\n",
    "#                           iaa.OneOf([iaa.Dropout(p=(0, 0.01)),\n",
    "#                                      iaa.CoarseDropout(0.01, size_percent=0.5)])),\n",
    "#             iaa.AddToHueAndSaturation(value=(-1, 1), per_channel=True)\n",
    "#         ])\n",
    "\n",
    "#     def __call__(self, img):\n",
    "#         img = np.array(img)\n",
    "#         return self.aug.augment_image(img)\n",
    "\n",
    "# # ImgAugTransform(),"
   ]
  },
  {
   "cell_type": "code",
   "execution_count": null,
   "metadata": {},
   "outputs": [],
   "source": []
  },
  {
   "cell_type": "code",
   "execution_count": null,
   "metadata": {},
   "outputs": [],
   "source": [
    "import scipy.io\n",
    "test = scipy.io.loadmat('test_32x32.mat')\n",
    "type(test)\n",
    "fig, (ax1, ax2) = plt.subplots(1, 2, sharex=True)\n",
    "\n",
    "fig.suptitle('Class Distribution', fontsize=14, fontweight='bold', y=1.05)\n",
    "\n",
    "ax1.hist(train['y'], bins=10)\n",
    "ax1.set_title(\"Training set\")\n",
    "ax1.set_xlim(1, 10)\n",
    "\n",
    "ax2.hist(test['y'], color='g', bins=10)\n",
    "ax2.set_title(\"Test set\")\n",
    "\n",
    "fig.tight_layout()"
   ]
  },
  {
   "cell_type": "code",
   "execution_count": 14,
   "metadata": {
    "colab": {
     "base_uri": "https://localhost:8080/",
     "height": 196
    },
    "colab_type": "code",
    "id": "hFbjHQ346pIl",
    "outputId": "0857c7a5-22ef-46c6-d7e3-be69a3d1ea93"
   },
   "outputs": [
    {
     "data": {
      "image/png": "[encoded data removed]",
      "text/plain": [
       "<Figure size 432x288 with 5 Axes>"
      ]
     },
     "metadata": {
      "needs_background": "light"
     },
     "output_type": "display_data"
    }
   ],
   "source": [
    "%matplotlib inline\n",
    "import matplotlib.pyplot as plt\n",
    "\n",
    "signs = [150, 700, 1100, 1500,5000]\n",
    "\n",
    "for i in range(len(signs)):\n",
    "    plt.subplot(1, 5, i+1)\n",
    "    plt.axis('off')\n",
    "    #plt.imshow(images27[traffic_signs[i]], cmap=\"gray\")\n",
    "    plt.imshow(train['X'][:,:,:,signs[i]])\n",
    "    plt.subplots_adjust(wspace=0.5)\n",
    "    plt.title(str(train['y'][signs[i]][0]))\n",
    "\n",
    "    \n",
    "# Show the plot\n",
    "plt.show()\n",
    "#10 label is 0 number "
   ]
  },
  {
   "cell_type": "code",
   "execution_count": 15,
   "metadata": {
    "colab": {
     "base_uri": "https://localhost:8080/",
     "height": 34
    },
    "colab_type": "code",
    "id": "0yYw8zIIwdFr",
    "outputId": "4b31028a-3cdf-4ee9-c45d-9b6a07d48081"
   },
   "outputs": [
    {
     "name": "stdout",
     "output_type": "stream",
     "text": [
      "Start time in seconds is : 1567160617.8632588\n"
     ]
    }
   ],
   "source": [
    "import time\n",
    "start_time = time.time()\n",
    "print('Start time in seconds is : {}'.format(start_time))"
   ]
  },
  {
   "cell_type": "code",
   "execution_count": 16,
   "metadata": {
    "colab": {
     "base_uri": "https://localhost:8080/",
     "height": 34
    },
    "colab_type": "code",
    "id": "Z9GtYblBJ3c1",
    "outputId": "35cf2ac8-8f69-4fc3-c6e7-b83b43231118"
   },
   "outputs": [
    {
     "data": {
      "text/plain": [
       "dict"
      ]
     },
     "execution_count": 16,
     "metadata": {},
     "output_type": "execute_result"
    }
   ],
   "source": [
    "# import scipy.io\n",
    "# test = scipy.io.loadmat('test_32x32.mat')\n",
    "type(test)"
   ]
  },
  {
   "cell_type": "code",
   "execution_count": 17,
   "metadata": {},
   "outputs": [],
   "source": [
    "test['y']=test['y'].astype('int64')\n"
   ]
  },
  {
   "cell_type": "code",
   "execution_count": 18,
   "metadata": {
    "colab": {
     "base_uri": "https://localhost:8080/",
     "height": 34
    },
    "colab_type": "code",
    "id": "_XtF6fRU6FW9",
    "outputId": "8689e015-522e-43fc-f151-04ae8f8d7e64"
   },
   "outputs": [
    {
     "data": {
      "text/plain": [
       "(32, 32, 3, 73257)"
      ]
     },
     "execution_count": 18,
     "metadata": {},
     "output_type": "execute_result"
    }
   ],
   "source": [
    "train['X'].shape"
   ]
  },
  {
   "cell_type": "code",
   "execution_count": 19,
   "metadata": {
    "colab": {
     "base_uri": "https://localhost:8080/",
     "height": 34
    },
    "colab_type": "code",
    "id": "kkJQRdDu9XqT",
    "outputId": "c3ddbcb2-e16c-4ece-8557-0de3612300e6"
   },
   "outputs": [
    {
     "data": {
      "text/plain": [
       "73257"
      ]
     },
     "execution_count": 19,
     "metadata": {},
     "output_type": "execute_result"
    }
   ],
   "source": [
    "import torch\n",
    "from torch import nn\n",
    "from torch import optim\n",
    "import torch.nn.functional as F\n",
    "from torchvision import datasets, utils, transforms, models\n",
    "from torch.utils.data import Dataset, DataLoader\n",
    "torch.from_numpy(train['X']).shape[3]"
   ]
  },
  {
   "cell_type": "code",
   "execution_count": null,
   "metadata": {},
   "outputs": [],
   "source": []
  },
  {
   "cell_type": "code",
   "execution_count": 20,
   "metadata": {
    "colab": {},
    "colab_type": "code",
    "id": "-pgGF0Mn6fk2"
   },
   "outputs": [],
   "source": [
    "\n",
    "class MyDataset(Dataset):\n",
    "    def __init__(self, mat_file, transforms=None):\n",
    "\n",
    "        self.images = mat_file['X']\n",
    "        self.targets = mat_file['y']\n",
    "        self.transforms = transforms\n",
    "\n",
    "\n",
    "    def __getitem__(self, index):\n",
    "        x = self.images[:,:,:,index]\n",
    "#         x=np.moveaxis(x, -1, 0)\n",
    "        y = self.targets[index][0]-1\n",
    "        if self.transforms is not None:\n",
    "            x = self.transforms(x)\n",
    "        \n",
    "        return x, y\n",
    "\n",
    "    def __len__(self):\n",
    "        return (self.images).shape[3]"
   ]
  },
  {
   "cell_type": "code",
   "execution_count": 21,
   "metadata": {
    "colab": {},
    "colab_type": "code",
    "id": "yuhqZAO3J2oR"
   },
   "outputs": [],
   "source": [
    "t = transforms.Compose(\n",
    "    [transforms.ToPILImage(),transforms.ToTensor(),\n",
    "     transforms.Normalize(mean=(0.5, 0.5, 0.5), std=(0.5, 0.5, 0.5))])\n",
    "\n",
    "#transforms.Grayscale(num_output_channels=1),"
   ]
  },
  {
   "cell_type": "code",
   "execution_count": 22,
   "metadata": {
    "colab": {},
    "colab_type": "code",
    "id": "5K1oiDsb7un4"
   },
   "outputs": [],
   "source": [
    "transformed_dataset = MyDataset(mat_file=train,transforms=t)\n",
    "test_dataset = MyDataset(mat_file=test,transforms=t)\n",
    "\n"
   ]
  },
  {
   "cell_type": "code",
   "execution_count": null,
   "metadata": {},
   "outputs": [],
   "source": []
  },
  {
   "cell_type": "code",
   "execution_count": 23,
   "metadata": {
    "colab": {
     "base_uri": "https://localhost:8080/",
     "height": 34
    },
    "colab_type": "code",
    "id": "ifNvHXFX8yMi",
    "outputId": "55a9e9ff-a8ff-42ab-a6f1-164f5f0bc07e"
   },
   "outputs": [
    {
     "data": {
      "text/plain": [
       "73257"
      ]
     },
     "execution_count": 23,
     "metadata": {},
     "output_type": "execute_result"
    }
   ],
   "source": [
    "len(transformed_dataset)"
   ]
  },
  {
   "cell_type": "code",
   "execution_count": null,
   "metadata": {},
   "outputs": [],
   "source": []
  },
  {
   "cell_type": "code",
   "execution_count": 24,
   "metadata": {
    "colab": {
     "base_uri": "https://localhost:8080/",
     "height": 50
    },
    "colab_type": "code",
    "id": "Bnlb9r--8I31",
    "outputId": "1dc529e7-5e15-4f82-b20c-0b3151b1b3d5"
   },
   "outputs": [
    {
     "name": "stdout",
     "output_type": "stream",
     "text": [
      "torch.Size([3, 32, 32]) ()\n",
      "torch.float32 int64\n"
     ]
    }
   ],
   "source": [
    "for data,label in transformed_dataset:\n",
    "  print(data.shape,label.shape)\n",
    "  print(data.dtype,label.dtype)\n",
    "\n",
    "  \n",
    "  break"
   ]
  },
  {
   "cell_type": "code",
   "execution_count": null,
   "metadata": {
    "colab": {},
    "colab_type": "code",
    "id": "Y7Ja1wcy8uH_"
   },
   "outputs": [],
   "source": [
    "\n",
    "# train_idx, val_idx = torch.utils.data.random_split(transformed_dataset, [train_size, test_size])\n",
    "# train_loader= DataLoader(train_idx, batch_size=bsz,num_workers=nw)\n",
    "# val_loader=DataLoader(val_idx, batch_size=bsz,num_workers=nw)\n",
    "\n",
    "\n",
    "# test_loader= DataLoader(test_dataset, batch_size=bsz,num_workers=nw)"
   ]
  },
  {
   "cell_type": "code",
   "execution_count": 25,
   "metadata": {
    "colab": {},
    "colab_type": "code",
    "id": "sYdNp1_I-65z"
   },
   "outputs": [],
   "source": [
    "from torch.utils.data import DataLoader\n",
    "from torch.utils.data.sampler import SubsetRandomSampler\n",
    "\n",
    "## create training and validation split \n",
    "split = int(0.8 * len(transformed_dataset))\n",
    "index_list = list(range(len(transformed_dataset)))\n",
    "train_idx, valid_idx = index_list[:split], index_list[split:]"
   ]
  },
  {
   "cell_type": "code",
   "execution_count": 26,
   "metadata": {
    "colab": {},
    "colab_type": "code",
    "id": "6KV-OsfL_ECt"
   },
   "outputs": [],
   "source": [
    "## create sampler objects using SubsetRandomSampler\n",
    "tr_sampler = SubsetRandomSampler(train_idx)\n",
    "val_sampler = SubsetRandomSampler(valid_idx)"
   ]
  },
  {
   "cell_type": "code",
   "execution_count": 27,
   "metadata": {
    "colab": {},
    "colab_type": "code",
    "id": "qWW7Az9Z_GU8"
   },
   "outputs": [],
   "source": [
    "## create iterator objects for train and valid datasets\n",
    "# trainloader = DataLoader(transformed_dataset, batch_size=32, sampler=tr_sampler)\n",
    "nw=0\n",
    "bsz=64\n",
    "lr=0.001\n",
    "ep=11\n",
    "\n",
    "train_loader= DataLoader(transformed_dataset, batch_size=bsz, sampler=tr_sampler,num_workers=nw)\n",
    "\n",
    "val_loader = DataLoader(transformed_dataset, batch_size=bsz, sampler=val_sampler,num_workers=nw)\n",
    "test_loader= DataLoader(test_dataset, batch_size=bsz,num_workers=nw)\n"
   ]
  },
  {
   "cell_type": "code",
   "execution_count": 28,
   "metadata": {},
   "outputs": [
    {
     "name": "stdout",
     "output_type": "stream",
     "text": [
      "torch.float32\n",
      "torch.int64\n"
     ]
    }
   ],
   "source": [
    "test_loader= DataLoader(test_dataset, batch_size=bsz,num_workers=nw)\n",
    "for images,labels in test_loader:\n",
    "    print(images.dtype)\n",
    "    print(labels.dtype)\n",
    "    break"
   ]
  },
  {
   "cell_type": "code",
   "execution_count": 29,
   "metadata": {
    "colab": {},
    "colab_type": "code",
    "id": "Or3ase4ND_kj"
   },
   "outputs": [],
   "source": [
    "seed = 32\n",
    "np.random.seed(seed)\n",
    "torch.manual_seed(seed)\n",
    "\n",
    "if torch.cuda.is_available():\n",
    "    # Make CuDNN Determinist\n",
    "    torch.backends.cudnn.deterministic = True\n",
    "    torch.cuda.manual_seed(seed)\n",
    "\n",
    "# Define default device, cuda if available\n",
    "device = torch.device(\"cuda\" if torch.cuda.is_available() else \"cpu\")\n"
   ]
  },
  {
   "cell_type": "code",
   "execution_count": 30,
   "metadata": {},
   "outputs": [
    {
     "data": {
      "text/plain": [
       "384"
      ]
     },
     "execution_count": 30,
     "metadata": {},
     "output_type": "execute_result"
    }
   ],
   "source": [
    "#i-w+*2(p)/stride\n",
    "\n",
    "32-3+1+2\n",
    "16*8*3"
   ]
  },
  {
   "cell_type": "code",
   "execution_count": null,
   "metadata": {},
   "outputs": [],
   "source": [
    "#         self.conv1_bn = nn.BatchNorm2d(16)\n",
    "#         x = self.dropout(self.conv1_bn(x))\n",
    "#         self.dropout = nn.Dropout(0.2)\n"
   ]
  },
  {
   "cell_type": "code",
   "execution_count": 31,
   "metadata": {
    "colab": {},
    "colab_type": "code",
    "id": "hMi2mhPe_GX1"
   },
   "outputs": [],
   "source": [
    "class Net(nn.Module):\n",
    "    \n",
    "    #Our batch shape for input x is (3, 32, 32)\n",
    "    \n",
    "    def __init__(self):\n",
    "        super(Net, self).__init__()\n",
    "        \n",
    "        ## define the layers\n",
    "        #conv in channel out channel kernel padding stride\n",
    "        \n",
    "        self.conv1 = nn.Conv2d(3, 16, 3, padding=1)\n",
    "        #same padding --size with kernel 3 and padding 1\n",
    "        self.dropout = nn.Dropout(0.2)\n",
    "\n",
    "        self.conv2 = nn.Conv2d(16, 32, 3, padding=1)\n",
    "        self.conv3 = nn.Conv2d(32, 64, 3, padding=1)\n",
    "        self.pool = nn.MaxPool2d(2, 2)\n",
    "        self.linear1 = nn.Linear(1024, 512)\n",
    "        self.linear2 = nn.Linear(512, 10)\n",
    "    \n",
    "    def forward(self, x):\n",
    "        x = self.pool(F.relu(self.conv1(x)))\n",
    "        x = self.pool(F.relu(self.conv2(x)))\n",
    "        x = self.dropout(x)\n",
    "        x = self.pool(F.relu(self.conv3(x)))\n",
    "        x = x.view(-1, 1024) ## reshaping \n",
    "        x = F.relu(self.linear1(x))\n",
    "        x = self.linear2(x)\n",
    "        return x\n",
    "\n",
    "\n",
    "model = Net()"
   ]
  },
  {
   "cell_type": "code",
   "execution_count": 32,
   "metadata": {},
   "outputs": [
    {
     "name": "stdout",
     "output_type": "stream",
     "text": [
      "Requirement already satisfied: torchsummary in c:\\users\\asmna\\documents\\python\\lib\\site-packages (1.5.1)\n",
      "----------------------------------------------------------------\n",
      "        Layer (type)               Output Shape         Param #\n",
      "================================================================\n",
      "            Conv2d-1           [-1, 16, 32, 32]             448\n",
      "         MaxPool2d-2           [-1, 16, 16, 16]               0\n",
      "            Conv2d-3           [-1, 32, 16, 16]           4,640\n",
      "         MaxPool2d-4             [-1, 32, 8, 8]               0\n",
      "           Dropout-5             [-1, 32, 8, 8]               0\n",
      "            Conv2d-6             [-1, 64, 8, 8]          18,496\n",
      "         MaxPool2d-7             [-1, 64, 4, 4]               0\n",
      "            Linear-8                  [-1, 512]         524,800\n",
      "            Linear-9                   [-1, 10]           5,130\n",
      "================================================================\n",
      "Total params: 553,514\n",
      "Trainable params: 553,514\n",
      "Non-trainable params: 0\n",
      "----------------------------------------------------------------\n",
      "Input size (MB): 0.01\n",
      "Forward/backward pass size (MB): 0.29\n",
      "Params size (MB): 2.11\n",
      "Estimated Total Size (MB): 2.42\n",
      "----------------------------------------------------------------\n"
     ]
    }
   ],
   "source": [
    "!pip install torchsummary\n",
    "from torchsummary import summary\n",
    "\n",
    "summary(model.to(device), (3, 32, 32))\n"
   ]
  },
  {
   "cell_type": "code",
   "execution_count": 33,
   "metadata": {
    "colab": {},
    "colab_type": "code",
    "id": "X56XKXJX-bzY"
   },
   "outputs": [],
   "source": [
    "import torch.optim as optim\n",
    "\n",
    "def createLossAndOptimizer(net, learning_rate=lr):\n",
    "    # it combines softmax with negative log likelihood loss\n",
    "    criterion = nn.CrossEntropyLoss()  \n",
    "    #optimizer = optim.SGD(net.parameters(), lr=learning_rate, momentum=0.9)\n",
    "    optimizer = optim.Adam(net.parameters(), lr=learning_rate)\n",
    "    return criterion, optimizer"
   ]
  },
  {
   "cell_type": "code",
   "execution_count": null,
   "metadata": {},
   "outputs": [],
   "source": []
  },
  {
   "cell_type": "code",
   "execution_count": 34,
   "metadata": {
    "colab": {},
    "colab_type": "code",
    "id": "p3DOOffV-pch"
   },
   "outputs": [],
   "source": [
    "def train(net, batch_size, n_epochs, learning_rate):\n",
    "    \"\"\"\n",
    "    Train a neural network and print statistics of the training\n",
    "    \n",
    "    :param net: (PyTorch Neural Network)\n",
    "    :param batch_size: (int)\n",
    "    :param n_epochs: (int)  Number of iterations on the training set\n",
    "    :param learning_rate: (float) learning rate used by the optimizer\n",
    "    \"\"\"\n",
    "    print(\"===== HYPERPARAMETERS =====\")\n",
    "    print(\"batch_size=\", batch_size)\n",
    "    print(\"n_epochs=\", n_epochs)\n",
    "    print(\"learning_rate=\", learning_rate)\n",
    "    print(\"=\" * 30)\n",
    "    \n",
    "    n_minibatches = len(train_loader)\n",
    "\n",
    "    criterion, optimizer = createLossAndOptimizer(net, learning_rate)\n",
    "    # Init variables used for plotting the loss\n",
    "    train_history = []\n",
    "    val_history = []\n",
    "\n",
    "    training_start_time = time.time()\n",
    "    best_error = np.inf\n",
    "    best_model_path = \"svhn.pth\"\n",
    "    \n",
    "    # Move model to gpu if possible\n",
    "    net = net.to(device)\n",
    "\n",
    "    for epoch in range(n_epochs):  # loop over the dataset multiple times\n",
    "\n",
    "        running_loss = 0.0\n",
    "        print_every = n_minibatches // 10 #prints every batches specified\n",
    "        start_time = time.time()\n",
    "        total_train_loss = 0\n",
    "        \n",
    "        for i, (inputs, labels) in enumerate(train_loader):\n",
    "\n",
    "            # Move tensors to correct device\n",
    "            inputs, labels = inputs.to(device), labels.to(device)\n",
    "\n",
    "            # zero the parameter gradients\n",
    "            optimizer.zero_grad()\n",
    "\n",
    "            # forward + backward + optimize\n",
    "            outputs = net(inputs)\n",
    "            loss = criterion(outputs, labels)\n",
    "            loss.backward()\n",
    "            optimizer.step()\n",
    "\n",
    "            # print statistics\n",
    "            running_loss += loss.item()\n",
    "            total_train_loss += loss.item()\n",
    "\n",
    "            # print every 10th of epoch\n",
    "            if (i + 1) % (print_every + 1) == 0:    \n",
    "                print(\"Epoch {}, {:d}% \\t train_loss: {:.2f} took: {:.2f}s\".format(\n",
    "                      epoch + 1, int(100 * (i + 1) / n_minibatches), running_loss / print_every,\n",
    "                      time.time() - start_time))\n",
    "                running_loss = 0.0\n",
    "                start_time = time.time()\n",
    "\n",
    "        train_history.append(total_train_loss / len(train_loader))\n",
    "\n",
    "        total_val_loss = 0\n",
    "        # Do a pass on the validation set\n",
    "        # We don't need to compute gradient,\n",
    "        # we save memory and computation using th.no_grad()\n",
    "        with torch.no_grad():\n",
    "            \n",
    "            for inputs, labels in val_loader:\n",
    "                inputs, labels = inputs.to(device), labels.to(device)\n",
    "                  # Forward pass\n",
    "                predictions = net(inputs)\n",
    "                val_loss = criterion(predictions, labels)\n",
    "                total_val_loss += val_loss.item()\n",
    "\n",
    "        val_history.append(total_val_loss / len(val_loader))\n",
    "        # Save model that performs best on validation set\n",
    "        if total_val_loss < best_error:\n",
    "            best_error = total_val_loss\n",
    "            torch.save(net.state_dict(), best_model_path)\n",
    "\n",
    "        print(\"Validation loss = {:.2f}\".format(total_val_loss / len(val_loader)))\n",
    "\n",
    "    print(\"Training Finished, took {:.2f}s\".format(time.time() - training_start_time))\n",
    "    \n",
    "    # Load best model dictionary parameters\n",
    "    model.load_state_dict(torch.load(best_model_path))\n",
    "    \n",
    "    \n",
    "    return train_history, val_history"
   ]
  },
  {
   "cell_type": "markdown",
   "metadata": {
    "colab_type": "text",
    "id": "klLCeJ3QjPxp"
   },
   "source": []
  },
  {
   "cell_type": "code",
   "execution_count": null,
   "metadata": {
    "colab": {},
    "colab_type": "code",
    "id": "Qmo4qCKYjQJw"
   },
   "outputs": [],
   "source": []
  },
  {
   "cell_type": "code",
   "execution_count": null,
   "metadata": {
    "colab": {},
    "colab_type": "code",
    "id": "g2-brDDHcawE"
   },
   "outputs": [],
   "source": []
  },
  {
   "cell_type": "code",
   "execution_count": 35,
   "metadata": {
    "colab": {
     "base_uri": "https://localhost:8080/",
     "height": 421
    },
    "colab_type": "code",
    "id": "8LQjYbEGF2U5",
    "outputId": "75123618-e117-4833-b7a1-cca88c5dd092"
   },
   "outputs": [
    {
     "name": "stdout",
     "output_type": "stream",
     "text": [
      "===== HYPERPARAMETERS =====\n",
      "batch_size= 64\n",
      "n_epochs= 11\n",
      "learning_rate= 0.001\n",
      "==============================\n",
      "Epoch 1, 10% \t train_loss: 2.26 took: 2.49s\n",
      "Epoch 1, 20% \t train_loss: 2.09 took: 2.51s\n",
      "Epoch 1, 30% \t train_loss: 1.28 took: 2.49s\n",
      "Epoch 1, 40% \t train_loss: 0.94 took: 2.34s\n",
      "Epoch 1, 50% \t train_loss: 0.75 took: 2.25s\n",
      "Epoch 1, 60% \t train_loss: 0.71 took: 2.20s\n",
      "Epoch 1, 70% \t train_loss: 0.64 took: 2.32s\n",
      "Epoch 1, 80% \t train_loss: 0.62 took: 2.41s\n",
      "Epoch 1, 90% \t train_loss: 0.56 took: 2.28s\n",
      "Validation loss = 0.52\n",
      "Epoch 2, 10% \t train_loss: 0.50 took: 2.24s\n",
      "Epoch 2, 20% \t train_loss: 0.49 took: 2.24s\n",
      "Epoch 2, 30% \t train_loss: 0.50 took: 2.30s\n",
      "Epoch 2, 40% \t train_loss: 0.46 took: 2.34s\n",
      "Epoch 2, 50% \t train_loss: 0.48 took: 2.31s\n",
      "Epoch 2, 60% \t train_loss: 0.45 took: 2.27s\n",
      "Epoch 2, 70% \t train_loss: 0.44 took: 2.34s\n",
      "Epoch 2, 80% \t train_loss: 0.44 took: 2.26s\n",
      "Epoch 2, 90% \t train_loss: 0.41 took: 2.27s\n",
      "Validation loss = 0.46\n",
      "Epoch 3, 10% \t train_loss: 0.39 took: 2.28s\n",
      "Epoch 3, 20% \t train_loss: 0.39 took: 2.22s\n",
      "Epoch 3, 30% \t train_loss: 0.42 took: 2.21s\n",
      "Epoch 3, 40% \t train_loss: 0.37 took: 2.27s\n",
      "Epoch 3, 50% \t train_loss: 0.37 took: 2.20s\n",
      "Epoch 3, 60% \t train_loss: 0.36 took: 2.24s\n",
      "Epoch 3, 70% \t train_loss: 0.40 took: 2.23s\n",
      "Epoch 3, 80% \t train_loss: 0.35 took: 2.25s\n",
      "Epoch 3, 90% \t train_loss: 0.37 took: 2.24s\n",
      "Validation loss = 0.39\n",
      "Epoch 4, 10% \t train_loss: 0.35 took: 2.23s\n",
      "Epoch 4, 20% \t train_loss: 0.32 took: 2.19s\n",
      "Epoch 4, 30% \t train_loss: 0.33 took: 2.24s\n",
      "Epoch 4, 40% \t train_loss: 0.32 took: 2.24s\n",
      "Epoch 4, 50% \t train_loss: 0.32 took: 2.25s\n",
      "Epoch 4, 60% \t train_loss: 0.35 took: 2.19s\n",
      "Epoch 4, 70% \t train_loss: 0.32 took: 2.21s\n",
      "Epoch 4, 80% \t train_loss: 0.33 took: 2.24s\n",
      "Epoch 4, 90% \t train_loss: 0.33 took: 2.24s\n",
      "Validation loss = 0.37\n",
      "Epoch 5, 10% \t train_loss: 0.29 took: 2.25s\n",
      "Epoch 5, 20% \t train_loss: 0.30 took: 2.22s\n",
      "Epoch 5, 30% \t train_loss: 0.29 took: 2.26s\n",
      "Epoch 5, 40% \t train_loss: 0.30 took: 2.24s\n",
      "Epoch 5, 50% \t train_loss: 0.28 took: 2.23s\n",
      "Epoch 5, 60% \t train_loss: 0.29 took: 2.25s\n",
      "Epoch 5, 70% \t train_loss: 0.27 took: 2.23s\n",
      "Epoch 5, 80% \t train_loss: 0.29 took: 2.24s\n",
      "Epoch 5, 90% \t train_loss: 0.31 took: 2.23s\n",
      "Validation loss = 0.34\n",
      "Epoch 6, 10% \t train_loss: 0.25 took: 2.26s\n",
      "Epoch 6, 20% \t train_loss: 0.28 took: 2.20s\n",
      "Epoch 6, 30% \t train_loss: 0.26 took: 2.24s\n",
      "Epoch 6, 40% \t train_loss: 0.25 took: 2.22s\n",
      "Epoch 6, 50% \t train_loss: 0.24 took: 2.25s\n",
      "Epoch 6, 60% \t train_loss: 0.28 took: 2.20s\n",
      "Epoch 6, 70% \t train_loss: 0.27 took: 2.20s\n",
      "Epoch 6, 80% \t train_loss: 0.28 took: 2.25s\n",
      "Epoch 6, 90% \t train_loss: 0.26 took: 2.27s\n",
      "Validation loss = 0.37\n",
      "Epoch 7, 10% \t train_loss: 0.22 took: 2.25s\n",
      "Epoch 7, 20% \t train_loss: 0.24 took: 2.33s\n",
      "Epoch 7, 30% \t train_loss: 0.25 took: 2.24s\n",
      "Epoch 7, 40% \t train_loss: 0.24 took: 2.17s\n",
      "Epoch 7, 50% \t train_loss: 0.23 took: 2.20s\n",
      "Epoch 7, 60% \t train_loss: 0.24 took: 2.19s\n",
      "Epoch 7, 70% \t train_loss: 0.24 took: 2.26s\n",
      "Epoch 7, 80% \t train_loss: 0.26 took: 2.33s\n",
      "Epoch 7, 90% \t train_loss: 0.22 took: 2.44s\n",
      "Validation loss = 0.34\n",
      "Epoch 8, 10% \t train_loss: 0.18 took: 2.04s\n",
      "Epoch 8, 20% \t train_loss: 0.21 took: 2.11s\n",
      "Epoch 8, 30% \t train_loss: 0.22 took: 2.17s\n",
      "Epoch 8, 40% \t train_loss: 0.22 took: 2.09s\n",
      "Epoch 8, 50% \t train_loss: 0.21 took: 2.12s\n",
      "Epoch 8, 60% \t train_loss: 0.22 took: 2.15s\n",
      "Epoch 8, 70% \t train_loss: 0.23 took: 2.74s\n",
      "Epoch 8, 80% \t train_loss: 0.23 took: 2.25s\n",
      "Epoch 8, 90% \t train_loss: 0.25 took: 2.40s\n",
      "Validation loss = 0.34\n",
      "Epoch 9, 10% \t train_loss: 0.17 took: 2.11s\n",
      "Epoch 9, 20% \t train_loss: 0.18 took: 2.12s\n",
      "Epoch 9, 30% \t train_loss: 0.19 took: 2.14s\n",
      "Epoch 9, 40% \t train_loss: 0.19 took: 2.09s\n",
      "Epoch 9, 50% \t train_loss: 0.20 took: 2.13s\n",
      "Epoch 9, 60% \t train_loss: 0.21 took: 2.16s\n",
      "Epoch 9, 70% \t train_loss: 0.19 took: 2.09s\n",
      "Epoch 9, 80% \t train_loss: 0.21 took: 2.11s\n",
      "Epoch 9, 90% \t train_loss: 0.21 took: 2.12s\n",
      "Validation loss = 0.33\n",
      "Epoch 10, 10% \t train_loss: 0.16 took: 2.13s\n",
      "Epoch 10, 20% \t train_loss: 0.17 took: 2.09s\n",
      "Epoch 10, 30% \t train_loss: 0.17 took: 2.03s\n",
      "Epoch 10, 40% \t train_loss: 0.17 took: 2.04s\n",
      "Epoch 10, 50% \t train_loss: 0.17 took: 2.03s\n",
      "Epoch 10, 60% \t train_loss: 0.17 took: 2.00s\n",
      "Epoch 10, 70% \t train_loss: 0.20 took: 2.08s\n",
      "Epoch 10, 80% \t train_loss: 0.20 took: 2.02s\n",
      "Epoch 10, 90% \t train_loss: 0.18 took: 2.04s\n",
      "Validation loss = 0.35\n",
      "Epoch 11, 10% \t train_loss: 0.16 took: 2.15s\n",
      "Epoch 11, 20% \t train_loss: 0.16 took: 2.58s\n",
      "Epoch 11, 30% \t train_loss: 0.15 took: 2.33s\n",
      "Epoch 11, 40% \t train_loss: 0.15 took: 2.20s\n",
      "Epoch 11, 50% \t train_loss: 0.15 took: 2.22s\n",
      "Epoch 11, 60% \t train_loss: 0.16 took: 2.06s\n",
      "Epoch 11, 70% \t train_loss: 0.16 took: 2.52s\n",
      "Epoch 11, 80% \t train_loss: 0.18 took: 2.24s\n",
      "Epoch 11, 90% \t train_loss: 0.17 took: 2.14s\n",
      "Validation loss = 0.37\n",
      "Training Finished, took 285.32s\n"
     ]
    }
   ],
   "source": [
    "model = Net()\n",
    "\n",
    "train_history, val_history = train(model, batch_size=bsz, n_epochs=ep, learning_rate=lr)"
   ]
  },
  {
   "cell_type": "code",
   "execution_count": 36,
   "metadata": {},
   "outputs": [],
   "source": [
    "# Colors from Colorbrewer Paired_12\n",
    "colors = [[31, 120, 180], [51, 160, 44]]\n",
    "colors = [(r / 255, g / 255, b / 255) for (r, g, b) in colors]\n",
    "\n",
    "def plot_losses(train_history, val_history):\n",
    "    x = np.arange(1, len(train_history) + 1)\n",
    "\n",
    "    plt.figure(figsize=(8, 6))\n",
    "    plt.plot(x, train_history, color=colors[0], label=\"Training loss\", linewidth=2)\n",
    "    plt.plot(x, val_history, color=colors[1], label=\"Validation loss\", linewidth=2)\n",
    "    plt.xlabel('Epoch')\n",
    "    plt.ylabel('Loss')\n",
    "    plt.legend(loc='upper right')\n",
    "    plt.title(\"Evolution of the training and validation loss\")\n",
    "    plt.show()\n"
   ]
  },
  {
   "cell_type": "code",
   "execution_count": 37,
   "metadata": {},
   "outputs": [
    {
     "data": {
      "image/png": "[encoded data removed]",
      "text/plain": [
       "<Figure size 576x432 with 1 Axes>"
      ]
     },
     "metadata": {
      "needs_background": "light"
     },
     "output_type": "display_data"
    }
   ],
   "source": [
    "\n",
    "plot_losses(train_history, val_history)"
   ]
  },
  {
   "cell_type": "code",
   "execution_count": 38,
   "metadata": {},
   "outputs": [
    {
     "name": "stdout",
     "output_type": "stream",
     "text": [
      "Ground truth:\n",
      "\n",
      "         4          1          0          9\n"
     ]
    },
    {
     "data": {
      "image/png": "[encoded data removed]",
      "text/plain": [
       "<Figure size 432x288 with 1 Axes>"
      ]
     },
     "metadata": {
      "needs_background": "light"
     },
     "output_type": "display_data"
    }
   ],
   "source": [
    "from torchvision.utils import make_grid\n",
    "# functions to show an image\n",
    "def imshow(img):\n",
    "    \"\"\"\n",
    "    :param img: (PyTorch Tensor)\n",
    "    \"\"\"\n",
    "    # unnormalize\n",
    "    img = img / 2 + 0.5     \n",
    "    # Convert tensor to numpy array\n",
    "    npimg = img.numpy()\n",
    "    # Color channel first -> color channel last\n",
    "    plt.imshow(np.transpose(npimg, (1, 2, 0)))\n",
    "\n",
    "try:\n",
    "    images, labels = next(iter(test_loader))\n",
    "except EOFError:\n",
    "    pass\n",
    "\n",
    "# print images\n",
    "imshow(make_grid(images[0:4]))\n",
    "print(\"Ground truth:\\n\")\n",
    "\n",
    "print(' '.join('{:>10}'.format(labels[j]) for j in range(4)))"
   ]
  },
  {
   "cell_type": "code",
   "execution_count": null,
   "metadata": {
    "colab": {},
    "colab_type": "code",
    "id": "sde-b0j7-rGb"
   },
   "outputs": [],
   "source": []
  },
  {
   "cell_type": "code",
   "execution_count": null,
   "metadata": {
    "colab": {},
    "colab_type": "code",
    "id": "h5Fer8uD-rLx"
   },
   "outputs": [],
   "source": []
  },
  {
   "cell_type": "code",
   "execution_count": 39,
   "metadata": {
    "colab": {},
    "colab_type": "code",
    "id": "EW9GHxlU-rJZ"
   },
   "outputs": [
    {
     "name": "stdout",
     "output_type": "stream",
     "text": [
      "Computing accuracy...\n",
      "Accuracy of the network on the 58605 train images: 95.13 %\n",
      "Accuracy of the network on the 14652 validation images: 90.44 %\n",
      "Accuracy of the network on the 26032 test images: 90.29 %\n"
     ]
    }
   ],
   "source": [
    "def dataset_accuracy(net, data_loader, name=\"\"):\n",
    "    net = net.to(device)\n",
    "    correct = 0\n",
    "    total = 0\n",
    "    for images, labels in data_loader:\n",
    "        images, labels = images.to(device), labels.to(device)\n",
    "        outputs = net(images)\n",
    "        _, predicted = torch.max(outputs, 1)\n",
    "        total += labels.size(0)\n",
    "        correct += (predicted == labels).sum()\n",
    "    accuracy = 100 * float(correct) / total\n",
    "    print('Accuracy of the network on the {} {} images: {:.2f} %'.format(total, name, accuracy))\n",
    "\n",
    "def train_set_accuracy(model):\n",
    "    dataset_accuracy(model, train_loader, \"train\")\n",
    "\n",
    "def val_set_accuracy(net):\n",
    "    dataset_accuracy(model, val_loader, \"validation\")  \n",
    "    \n",
    "def test_set_accuracy(net):\n",
    "    dataset_accuracy(model, test_loader, \"test\")\n",
    "\n",
    "def compute_accuracy(net):\n",
    "    train_set_accuracy(net)\n",
    "    val_set_accuracy(net)\n",
    "    test_set_accuracy(net)\n",
    "    \n",
    "print(\"Computing accuracy...\")\n",
    "compute_accuracy(model)"
   ]
  },
  {
   "cell_type": "code",
   "execution_count": null,
   "metadata": {},
   "outputs": [],
   "source": []
  },
  {
   "cell_type": "code",
   "execution_count": 40,
   "metadata": {},
   "outputs": [],
   "source": [
    "def plot_confusion_matrix(cm, classes,\n",
    "                          normalize=False,\n",
    "                          title='Confusion matrix',\n",
    "                          cmap=plt.cm.Blues):\n",
    "    \"\"\"\n",
    "    This function prints and plots the confusion matrix.\n",
    "    Normalization can be applied by setting `normalize=True`.\n",
    "    from http://scikit-learn.org/stable/auto_examples/model_selection/plot_confusion_matrix.html\n",
    "    :param cm: (numpy matrix) confusion matrix\n",
    "    :param classes: [str]\n",
    "    :param normalize: (bool)\n",
    "    :param title: (str)\n",
    "    :param cmap: (matplotlib color map)\n",
    "    \"\"\"\n",
    "    if normalize:\n",
    "        cm = cm.astype('float') / cm.sum(axis=1)[:, np.newaxis]\n",
    "        \n",
    "    plt.figure(figsize=(8, 8))   \n",
    "    plt.imshow(cm, interpolation='nearest', cmap=cmap)\n",
    "    plt.title(title)\n",
    "    plt.colorbar()\n",
    "    tick_marks = np.arange(len(classes))\n",
    "    plt.xticks(tick_marks, classes, rotation=45)\n",
    "    plt.yticks(tick_marks, classes)\n",
    "\n",
    "    fmt = '.2f' if normalize else 'd'\n",
    "    thresh = cm.max() / 2.\n",
    "    for i, j in itertools.product(range(cm.shape[0]), range(cm.shape[1])):\n",
    "        plt.text(j, i, format(cm[i, j], fmt),\n",
    "                 horizontalalignment=\"center\",\n",
    "                 color=\"white\" if cm[i, j] > thresh else \"black\")\n",
    "\n",
    "    plt.tight_layout()\n",
    "    plt.ylabel('True label')\n",
    "    plt.xlabel('Predicted label')"
   ]
  },
  {
   "cell_type": "code",
   "execution_count": 41,
   "metadata": {},
   "outputs": [
    {
     "name": "stdout",
     "output_type": "stream",
     "text": [
      "Class      Accuracy (%)\n",
      "5            91.74   \n",
      "1            92.94   \n",
      "2            85.30   \n",
      "1            93.63   \n",
      "3            88.22   \n",
      "5            83.44   \n",
      "5            89.31   \n",
      "5            88.55   \n",
      "0            89.11   \n",
      "1            90.59   \n"
     ]
    }
   ],
   "source": [
    "def accuracy_per_class(net):\n",
    "    net = net.to(device)\n",
    "    n_classes = 10\n",
    "    # (real, predicted)\n",
    "    confusion_matrix = np.zeros((n_classes, n_classes), dtype=np.int64)\n",
    "\n",
    "    for images, labels in test_loader:\n",
    "        images, labels = images, labels = images.to(device), labels.to(device)\n",
    "        outputs = net(images)\n",
    "        _, predicted = torch.max(outputs.data, 1)\n",
    "        for i in range(10):\n",
    "            confusion_matrix[labels[i], predicted[i]] += 1\n",
    "            label = labels[i]\n",
    "\n",
    "    print(\"{:<10} {:^10}\".format(\"Class\", \"Accuracy (%)\"))\n",
    "    for i in range(n_classes):\n",
    "        class_total = confusion_matrix[i, :].sum()\n",
    "        class_correct = confusion_matrix[i, i]\n",
    "        percentage_correct = 100.0 * float(class_correct) / class_total\n",
    "        \n",
    "        print('{:<10} {:^10.2f}'.format(labels[i], percentage_correct))\n",
    "    return confusion_matrix\n",
    "\n",
    "confusion_matrix = accuracy_per_class(model)"
   ]
  },
  {
   "cell_type": "code",
   "execution_count": 42,
   "metadata": {
    "colab": {},
    "colab_type": "code",
    "id": "hXga40NjJbfp"
   },
   "outputs": [],
   "source": [
    "\n",
    "classes = ('1', '2', '3', '4',\n",
    "           '5', '6', '7', '8', '9', '0')"
   ]
  },
  {
   "cell_type": "code",
   "execution_count": 43,
   "metadata": {},
   "outputs": [
    {
     "data": {
      "image/png": "[encoded data removed]",
      "text/plain": [
       "<Figure size 576x576 with 2 Axes>"
      ]
     },
     "metadata": {
      "needs_background": "light"
     },
     "output_type": "display_data"
    },
    {
     "data": {
      "image/png": "[encoded data removed]",
      "text/plain": [
       "<Figure size 576x576 with 2 Axes>"
      ]
     },
     "metadata": {
      "needs_background": "light"
     },
     "output_type": "display_data"
    }
   ],
   "source": [
    "import itertools\n",
    "\n",
    "# Plot normalized confusion matrix \n",
    "plot_confusion_matrix(confusion_matrix, classes, normalize=True,\n",
    "                      title='Normalized confusion matrix')\n",
    "\n",
    "# Plot non-normalized confusion matrix\n",
    "plot_confusion_matrix(confusion_matrix, classes,\n",
    "                      title='Confusion matrix, without normalization')"
   ]
  },
  {
   "cell_type": "code",
   "execution_count": null,
   "metadata": {},
   "outputs": [],
   "source": []
  }
 ],
 "metadata": {
  "accelerator": "GPU",
  "colab": {
   "collapsed_sections": [],
   "name": "Street View House Numbers (SVHN) Dataset.ipynb",
   "provenance": [],
   "version": "0.3.2"
  },
  "kernelspec": {
   "display_name": "Python 3",
   "language": "python",
   "name": "python3"
  },
  "language_info": {
   "codemirror_mode": {
    "name": "ipython",
    "version": 3
   },
   "file_extension": ".py",
   "mimetype": "text/x-python",
   "name": "python",
   "nbconvert_exporter": "python",
   "pygments_lexer": "ipython3",
   "version": "3.7.1"
  }
 },
 "nbformat": 4,
 "nbformat_minor": 1
}
